{
 "cells": [
  {
   "cell_type": "code",
   "execution_count": 95,
   "id": "0049655a-7e23-4e56-91f4-5fa823190270",
   "metadata": {},
   "outputs": [],
   "source": [
    "import numpy as np\n",
    "import matplotlib.pyplot as plt\n",
    "from sklearn.tree import DecisionTreeClassifier\n",
    "import pandas as pd\n",
    "import statsmodels.api as sm\n",
    "from statsmodels.formula.api import ols\n",
    "from sklearn.svm import SVC"
   ]
  },
  {
   "cell_type": "markdown",
   "id": "eef3d27f-a6d8-4629-a413-08c23abddb89",
   "metadata": {},
   "source": [
    "# Example 1: Classes easily separable by one parameter"
   ]
  },
  {
   "cell_type": "markdown",
   "id": "9ffc48af-6a7d-4f2a-a36f-f230103654ca",
   "metadata": {},
   "source": [
    "In this example the toy dataset was created. It contains 120 samples, each belonging to one of three classes. Each class contains 40 samples. The training data is 12-dimensional vectors. First 11 are just gaussian noise containing no information benefitting the classification process. However, the 12th column is the indicator, that allows perfect separation of the classes."
   ]
  },
  {
   "cell_type": "markdown",
   "id": "4518930f-6236-45bb-a1d0-deb09147b8db",
   "metadata": {},
   "source": [
    "### Step 1: Create the dataset"
   ]
  },
  {
   "cell_type": "code",
   "execution_count": 5,
   "id": "e02cba93-959f-4738-af84-1d8512960dd8",
   "metadata": {},
   "outputs": [],
   "source": [
    "X_not_important = np.random.randn(120,11)\n",
    "X_important = np.concatenate([np.random.randn(40) + 10 * i for i in range(3)]).reshape(-1,1)\n",
    "X = np.concatenate([X_not_important, X_important], axis=1)\n",
    "Y = np.concatenate([np.ones(40) * i for i in range(3)])"
   ]
  },
  {
   "cell_type": "markdown",
   "id": "d746314d-2ae0-4cd0-a8a8-3992895e1864",
   "metadata": {},
   "source": [
    "### Step 2: Split the dataset to train and test"
   ]
  },
  {
   "cell_type": "code",
   "execution_count": 31,
   "id": "8417978a-7964-4f88-97d1-8ed666da5706",
   "metadata": {},
   "outputs": [],
   "source": [
    "train_test_split_ratio = 0.7\n",
    "\n",
    "indices = np.arange(Y.shape[0])\n",
    "np.random.shuffle(indices)\n",
    "\n",
    "stop = int(Y.shape[0] * train_test_split_ratio)\n",
    "\n",
    "train_indices, test_indices = indices[:stop], indices[stop:]\n",
    "Xtrain, Xtest, Ytrain, Ytest = X[train_indices], X[test_indices], Y[train_indices], Y[test_indices]"
   ]
  },
  {
   "cell_type": "markdown",
   "id": "354156fc-272c-4772-8fa1-d0eb4c2a1aa8",
   "metadata": {},
   "source": [
    "### Step 3: Train model and evaluate it"
   ]
  },
  {
   "cell_type": "code",
   "execution_count": 32,
   "id": "159b288c-2066-4b7c-99e6-dc0fda681301",
   "metadata": {},
   "outputs": [
    {
     "name": "stdout",
     "output_type": "stream",
     "text": [
      "Accuracy on train set: 1.0\n",
      "Accuracy on test set: 1.0\n"
     ]
    }
   ],
   "source": [
    "model = DecisionTreeClassifier()\n",
    "model.fit(Xtrain, Ytrain)\n",
    "\n",
    "train_pred = model.predict(Xtrain)\n",
    "test_pred = model.predict(Xtest)\n",
    "\n",
    "acc_train = (train_pred == Ytrain).mean()\n",
    "acc_test = (test_pred == Ytest).mean()\n",
    "\n",
    "print(f\"Accuracy on train set: {acc_train}\")\n",
    "print(f\"Accuracy on test set: {acc_test}\")"
   ]
  },
  {
   "cell_type": "markdown",
   "id": "f6dde86d-dd5d-4f01-8cb7-f94ef8e42b0c",
   "metadata": {},
   "source": [
    "The accuracy on test set is 100% (as intended. After all, the dataset was purposefully created, so the pattern was trivial). Now, it is necessary to determine, whether there is a mistake in a code or the dataset contains patterns enabling clear discrimination between classes.\n",
    "\n",
    "It is time to determine the quality of patterns found in the dataset."
   ]
  },
  {
   "cell_type": "markdown",
   "id": "b8724242-7549-40ca-98be-072660a8b05e",
   "metadata": {},
   "source": [
    "### Step 4: Determine feature importance"
   ]
  },
  {
   "cell_type": "code",
   "execution_count": 39,
   "id": "173262ce-6fce-480b-9a4d-f6786b600acf",
   "metadata": {},
   "outputs": [
    {
     "data": {
      "image/png": "[encoded data removed]",
      "text/plain": [
       "<Figure size 576x432 with 1 Axes>"
      ]
     },
     "metadata": {
      "needs_background": "light"
     },
     "output_type": "display_data"
    }
   ],
   "source": [
    "features_train = pd.DataFrame(data=Xtrain, columns=[f\"X_{i}\" for i in range(Xtrain.shape[1])])\n",
    "feat_importances = pd.DataFrame(model.feature_importances_, index=features_train.columns, columns=[\"Importance\"])\n",
    "feat_importances.sort_values(by='Importance', ascending=False, inplace=True)\n",
    "feat_importances.plot(kind='bar', figsize=(8,6))\n",
    "\n",
    "plt.show()"
   ]
  },
  {
   "cell_type": "markdown",
   "id": "6d7f80a8-689c-4218-8df1-25e7e34de1d8",
   "metadata": {},
   "source": [
    "The feature importance determined the last column (\"X_11\") as the most important. It is correct assumption, since columns from X_0 to X_10 are random noise and column X_11 was created in a way to contain information solely sufficient for discrimination between classes. As a result, it is known where to look next. "
   ]
  },
  {
   "cell_type": "markdown",
   "id": "d86bc3da-1165-46b2-9550-4a7746c1cb74",
   "metadata": {},
   "source": [
    "### Step 5: Statistical analysis"
   ]
  },
  {
   "cell_type": "markdown",
   "id": "d6d4d743-809d-4dad-8f2b-9ecffba1d070",
   "metadata": {},
   "source": [
    "Since model deemed only last column as important, we will evaluate only this one. The first thing to do I recommend is to visualize the data. We will do so with the scatter plot."
   ]
  },
  {
   "cell_type": "code",
   "execution_count": 42,
   "id": "035b92e0-6397-4917-9c7b-f7ff7afeee2a",
   "metadata": {},
   "outputs": [
    {
     "data": {
      "image/png": "[encoded data removed]",
      "text/plain": [
       "<Figure size 432x288 with 1 Axes>"
      ]
     },
     "metadata": {
      "needs_background": "light"
     },
     "output_type": "display_data"
    },
    {
     "data": {
      "image/png": "[encoded data removed]",
      "text/plain": [
       "<Figure size 432x288 with 1 Axes>"
      ]
     },
     "metadata": {
      "needs_background": "light"
     },
     "output_type": "display_data"
    }
   ],
   "source": [
    "plt.scatter(Xtrain[:,11], Ytrain)\n",
    "plt.title(\"Train set evaluation\")\n",
    "plt.xlabel(\"X_11 values\")\n",
    "plt.ylabel(\"Class\")\n",
    "\n",
    "plt.show()\n",
    "\n",
    "\n",
    "plt.scatter(Xtest[:,11], Ytest)\n",
    "plt.title(\"Test set evaluation\")\n",
    "plt.xlabel(\"X_11 values\")\n",
    "plt.ylabel(\"Class\")\n",
    "\n",
    "plt.show()"
   ]
  },
  {
   "cell_type": "markdown",
   "id": "eba76b0a-39b6-4273-a389-c52c90f9a71c",
   "metadata": {},
   "source": [
    "Plots depict the relationship between classes and values of X_11. It can be seen, that X_11 clearly determines the class of the sample through the division of its values. To finish our analysis we will perform ANOVA analysis to futher prove the statistical importance of separability."
   ]
  },
  {
   "cell_type": "code",
   "execution_count": 47,
   "id": "373e44c8-68a0-45b6-8b65-02e2176e47d0",
   "metadata": {},
   "outputs": [
    {
     "data": {
      "text/html": [
       "<div>\n",
       "<style scoped>\n",
       "    .dataframe tbody tr th:only-of-type {\n",
       "        vertical-align: middle;\n",
       "    }\n",
       "\n",
       "    .dataframe tbody tr th {\n",
       "        vertical-align: top;\n",
       "    }\n",
       "\n",
       "    .dataframe thead th {\n",
       "        text-align: right;\n",
       "    }\n",
       "</style>\n",
       "<table border=\"1\" class=\"dataframe\">\n",
       "  <thead>\n",
       "    <tr style=\"text-align: right;\">\n",
       "      <th></th>\n",
       "      <th>sum_sq</th>\n",
       "      <th>df</th>\n",
       "      <th>F</th>\n",
       "      <th>PR(&gt;F)</th>\n",
       "    </tr>\n",
       "  </thead>\n",
       "  <tbody>\n",
       "    <tr>\n",
       "      <th>C(Class)</th>\n",
       "      <td>7981.607156</td>\n",
       "      <td>2.0</td>\n",
       "      <td>4354.864166</td>\n",
       "      <td>1.444066e-110</td>\n",
       "    </tr>\n",
       "    <tr>\n",
       "      <th>Residual</th>\n",
       "      <td>107.218963</td>\n",
       "      <td>117.0</td>\n",
       "      <td>NaN</td>\n",
       "      <td>NaN</td>\n",
       "    </tr>\n",
       "  </tbody>\n",
       "</table>\n",
       "</div>"
      ],
      "text/plain": [
       "               sum_sq     df            F         PR(>F)\n",
       "C(Class)  7981.607156    2.0  4354.864166  1.444066e-110\n",
       "Residual   107.218963  117.0          NaN            NaN"
      ]
     },
     "execution_count": 47,
     "metadata": {},
     "output_type": "execute_result"
    }
   ],
   "source": [
    "df = pd.DataFrame(data=np.concatenate([X[:,11].reshape(-1,1), Y.reshape(-1,1)], axis=1), columns=[\"X_11\", \"Class\"])\n",
    "ols_model = ols(\"X_11 ~ C(Class)\", data=df).fit()\n",
    "anova_table = sm.stats.anova_lm(ols_model, typ=2)\n",
    "anova_table"
   ]
  },
  {
   "cell_type": "markdown",
   "id": "acf495d2-12fb-4ba4-a4ea-4512ab0725be",
   "metadata": {},
   "source": [
    "The last column of our test (PR(>F)) is orders of magnitude smaller than 0.05. As a result, the difference is significant. Because difference is significant, the model in fact could find such a pattern in our dataset, that allowed for achieving perfect 100% accuracy on test. It seems, that there is no error in the code, and the classification task in this particular example was in fact trivial."
   ]
  }
 ],
 "metadata": {
  "kernelspec": {
   "display_name": "Python 3 (ipykernel)",
   "language": "python",
   "name": "python3"
  },
  "language_info": {
   "codemirror_mode": {
    "name": "ipython",
    "version": 3
   },
   "file_extension": ".py",
   "mimetype": "text/x-python",
   "name": "python",
   "nbconvert_exporter": "python",
   "pygments_lexer": "ipython3",
   "version": "3.10.5"
  }
 },
 "nbformat": 4,
 "nbformat_minor": 5
}
